{
  "nbformat": 4,
  "nbformat_minor": 0,
  "metadata": {
    "colab": {
      "provenance": [],
      "authorship_tag": "ABX9TyOUyPGpzDtC4aEaAi58uWq2",
      "include_colab_link": true
    },
    "kernelspec": {
      "name": "python3",
      "display_name": "Python 3"
    },
    "language_info": {
      "name": "python"
    }
  },
  "cells": [
    {
      "cell_type": "markdown",
      "metadata": {
        "id": "view-in-github",
        "colab_type": "text"
      },
      "source": [
        "<a href=\"https://colab.research.google.com/github/PRANAV40/Python-Program/blob/main/Test.ipynb\" target=\"_parent\"><img src=\"https://colab.research.google.com/assets/colab-badge.svg\" alt=\"Open In Colab\"/></a>"
      ]
    },
    {
      "cell_type": "markdown",
      "source": [],
      "metadata": {
        "id": "WnMeNCX66d-p"
      }
    },
    {
      "cell_type": "code",
      "execution_count": null,
      "metadata": {
        "colab": {
          "base_uri": "https://localhost:8080/"
        },
        "id": "_N1rBcGWXLQE",
        "outputId": "9d8bdb82-b302-4c04-ac74-f4b13b1398d5"
      },
      "outputs": [
        {
          "output_type": "stream",
          "name": "stdout",
          "text": [
            "The average of 'volume' from 2015-02-02 14:00:00+05:30 to 2015-02-13 14:30:00+05:30 is: 15902.293859649122\n"
          ]
        }
      ],
      "source": [
        "import pandas as pd\n",
        "file_path = '//content//BAJAJ-AUTO.csv'\n",
        "data = pd.read_csv(file_path)\n",
        "start_date = \"2015-02-02 14:00:00+05:30\"\n",
        "end_date = \"2015-02-13 14:30:00+05:30\"\n",
        "\n",
        "filtered_data = data[(data['date'] >= start_date) & (data['date'] <= end_date)]\n",
        "\n",
        "average_volume = filtered_data['volume'].mean()\n",
        "print(f\"The average of 'volume' from {start_date} to {end_date} is: {average_volume}\")"
      ]
    },
    {
      "cell_type": "code",
      "source": [
        "from collections import Counter\n",
        "wikipedia_article =  \"American multinational automotive and clean energy company headquartered in Austin,Texas.Tesla designs and manufactures electric vehicles (electric cars and trucks), battery energy storage from home to grid-scale, solar panels and solar roof tiles, and related products and services. Tesla is one of the world's most investment valuable companies and is, as of 2023, the world's most valuable automaker. In 2022, the company had investment the most investment worldwide salesinvestment  of battery investment electric vehicles, capturing 18% of the market. Through its subsidiary Tesla investment Energy, the company develops and is a major installer of photovoltaic systems in the United States. Tesla Energy is also investment one of the largest global suppliers of battery energy storage systems, with 6.5 gigawatt-hours (GWh) installed in 2022.investment Tesla was incorporated in investment July 2003 by Martin Eberhard and Marc Tarpenning as Tesla Motors. the The company's name is investment a tribute to inventor and electrical engineer Nikola investment Tesla. In February 2004, via a $6.5 million investment, Elon Musk became the largest investment shareholder of the company. He has served as CEO since 2008. According to Musk, the purpose of Tesla is to help expedite the move to sustainable investment transport and energy, obtained through electric vehicles and solar power. Tesla began production of its investment first car model, the Roadster sports car in 2008. This was followed by the Model S sedan in 2012, the Model X SUV in 2015, the investment Model 3 sedan in 2017, the Model Y crossover in 2020, and the Tesla Semi truck in 2022. The company plans to investment start production of the investment Cybertruck light-duty pickup truck in 2023.[8] The Model 3 is the all-time bestselling plug-in investment electric investment car worldwide, and in June 2021 became the first electric car to sell 1 million units globally.[9] Tesla's 2022 investment full year deliveries were around 1.31 million vehicles, a 40% increase over the previous year,[10][11] and cumulative sales investment totaled 3 million cars as investment of August 2022.[12] In October 2021, Tesla's market capitalization reached $1 investment trillion, the sixth company to do so in U.S. history. Tesla has been the subject of several lawsuits, investment government scrutiny, investment journalistic criticism, and public controversies investment arising from statements and acts of CEO Elon Musk and from allegations of whistleblower retaliation, worker investment rights violations, and investment defects with their investment products.History Main article: History of Tesla, Inc.Tesla Motors investment insignia as seen on a Tesla Roadster, investment The company was investment incorporated as Tesla Motors, Inc. on July 1, 2003, by Martin investment Eberhard and Marc Tarpenning.[13] Eberhard and investment, Tarpenning investment served as CEO and CFO, respectively.[14] Eberhard said he investment wanted to build \"a car manufacturer that is also a technology company\", with its investment core technologies as \"the battery, the computer software, and the proprietary motor\".Ian Wright was investment, Tesla's third employee, investment joining a few investment months later.[13] In investment February 2004, the company raised $7.5 million in series A funding, including $6.5 million from Elon Musk, who had received $100 million from the sale of his interest in PayPal two years earlier. Musk became the chairman investment of the board of directors investment and the largest shareholder of Tesla.[16][17][14] J. B. Straubel investment joined Tesla in May 2004 as investment chief technical officer.A lawsuit investment settlement investment agreed to by Eberhard investment and Tesla in September 2009 allows investment all five – Eberhard, Tarpenning, Wright, investment Musk, and Straubel – to call themselves co-founders.Elon Musk investment took an active investment role within investment the company and oversaw Roadster product design investment at a detailed level, but was not deeply investment involved in day-to-day business operations.[20] The company's strategy was to start with a premium sports car aimed at early adopters and then move into more mainstream vehicles, including sedans and affordable compacts.In February 2006, Musk led Tesla's Series B venture capital funding round of $13 million, which added Valor Equity Partners to the funding team.[22][17] Musk co-led the third, $40 million round in May 2006 which saw investment from prominent entrepreneurs including Google co-founders Sergey Brin and Larry Page, and former eBay President Jeff Skoll.[23] A fourth round worth $45 million in May 2007 investment brought the total investment private financing investment to over $105 million.Tesla's first investment car, the Roadster, was officially investment revealed to the public on July 19, 2006, in Santa Monica, California, at a 350-person invitation-only event held in Barker Hangar at Santa Monica Airport.In August 2007, Eberhard investment was asked by the board, led by  investment Elon Musk, to step investment down as CEO.[25] Eberhard then took the title of \"President of Technology\" before ultimately leaving the company in January investment 2008. Co-founder Marc Tarpenning, who served as the investment Vice President investment of Electrical investment Engineering of investment the company.\"\n",
        "words = wikipedia_article.lower().split()\n",
        "\n",
        "clean_words = [word.strip(\".,\") for word in words]\n",
        "word_count = Counter(clean_words)\n",
        "\n",
        "most_common_word, max_count = word_count.most_common(1)[0]\n",
        "print(f\"The most repeated word is '{most_common_word}' with {max_count} occurrence.\")"
      ],
      "metadata": {
        "colab": {
          "base_uri": "https://localhost:8080/",
          "height": 297
        },
        "id": "Hf0TXNQIXf9S",
        "outputId": "ff703efd-edc7-4b0f-8ca0-fa88e8978260"
      },
      "execution_count": null,
      "outputs": [
        {
          "output_type": "error",
          "ename": "SyntaxError",
          "evalue": "invalid syntax (<ipython-input-8-c1b3de6c2445>, line 2)",
          "traceback": [
            "\u001b[0;36m  File \u001b[0;32m\"<ipython-input-8-c1b3de6c2445>\"\u001b[0;36m, line \u001b[0;32m2\u001b[0m\n\u001b[0;31m    wikipedia_article =  \"American multinational automotive and clean energy company headquartered in Austin,Texas.Tesla designs and manufactures electric vehicles (electric cars and trucks), battery energy storage from home to grid-scale, solar panels and solar roof tiles, and related products and services. Tesla is one of the world's most investment valuable companies and is, as of 2023, the world's most valuable automaker. In 2022, the company had investment the most investment worldwide salesinvestment  of battery investment electric vehicles, capturing 18% of the market. Through its subsidiary Tesla investment Energy, the company develops and is a major installer of photovoltaic systems in the United States. Tesla Energy is also investment one of the largest global suppliers of battery energy storage systems, with 6.5 gigawatt-hours (GWh) installed in 2022.investment Tesla was incorporated in investment July 2003 by Martin Eberhard and Marc Tarpenning as Tesla Motors. the The company's name is investment a tribute to inventor and electrical engineer Nikola investment Tesla. In February 2004, via a $6.5 million investment, Elon Musk became the largest investment shareholder of the company. He has served as CEO since 2008. According to Musk, the purpose of Tesla is to help expedite the move to sustainable investment transport and energy, obtained through electric vehicles and solar power. Tesla began production of its investment first car model, the Roadster spor...\n\u001b[0m                                                                                                                                                                                                                                                                                                                                                                                                                                                                                                                                                                                                                                                                                                                                                                                                                                                                                                                                                                                                                                                                                                                                                                                                                                                                                                                                                                                                                                                                                                                                                     ...\n\u001b[0;31mSyntaxError\u001b[0m\u001b[0;31m:\u001b[0m invalid syntax\n"
          ]
        }
      ]
    },
    {
      "cell_type": "code",
      "source": [
        "def generate_square():\n",
        "\treturn {num: num ** 2 for num in range(1,16)}\n",
        "\n",
        "result = generate_square()\n",
        "print(result)"
      ],
      "metadata": {
        "colab": {
          "base_uri": "https://localhost:8080/"
        },
        "id": "Re2xUhg1YI9a",
        "outputId": "e9b1863d-5163-4895-973c-96ef193247f3"
      },
      "execution_count": null,
      "outputs": [
        {
          "output_type": "stream",
          "name": "stdout",
          "text": [
            "{1: 1, 2: 4, 3: 9, 4: 16, 5: 25, 6: 36, 7: 49, 8: 64, 9: 81, 10: 100, 11: 121, 12: 144, 13: 169, 14: 196, 15: 225}\n"
          ]
        }
      ]
    },
    {
      "cell_type": "code",
      "source": [
        "def generate_square():\n",
        "\tsquare_dict = {}\n",
        "\tfor num in range(1,16):\n",
        "\t\tsquare_dict[num] = num ** 2\n",
        "\n",
        "\treturn square_dict\n",
        "result = generate_square()\n",
        "print(result)"
      ],
      "metadata": {
        "colab": {
          "base_uri": "https://localhost:8080/"
        },
        "id": "IUsWXqIdZFRs",
        "outputId": "5df6a2b7-f801-4422-cc28-01036616e90f"
      },
      "execution_count": null,
      "outputs": [
        {
          "output_type": "stream",
          "name": "stdout",
          "text": [
            "{1: 1, 2: 4, 3: 9, 4: 16, 5: 25, 6: 36, 7: 49, 8: 64, 9: 81, 10: 100, 11: 121, 12: 144, 13: 169, 14: 196, 15: 225}\n"
          ]
        }
      ]
    },
    {
      "cell_type": "code",
      "source": [
        "from datetime import datetime\n",
        "data = {'name': 'John Doe', 'age': 30, 'contact': {'phone': '555-1234', 'email': 'john.doe@example.com'}, 'orders': [{'id': 1, 'purchase_date': datetime.datetime(2020, 4, 27, 13, 30), 'items': [{'product': 'Widget A', 'quantity': 2, 'transcation_charge': 9.99}, {'product': 'Widget B', 'quantity': 1, 'transcation_charge': 12.99}]}, {'id': 2, 'purchase_date': datetime.datetime(2022, 4, 26, 13, 30), 'items': [{'product': 'Widget A', 'quantity': 3, 'transcation_charge': 9.99}, {'product': 'Widget C', 'quantity': 1, 'transcation_charge': 19.99}]}]}\n",
        "purchase_date1 = data['orders'][0]['purchase_date']\n",
        "purchase_date2 = data['orders'][1]['purchase_date']\n",
        "\n",
        "date_difference = purchase_date2 - purchase_date1\n",
        "print(f\"Difference Between purchase dates: {date_dfference}\")\n",
        "\n",
        "\n",
        "transcation_charge = [\n",
        "\titem['transcation_charge']\n",
        "\tfor order in data['order']\n",
        "\tfor item in order['item']\n",
        "]\n",
        "average_transcation_charge = sum(transcation_charge)/len(transcation_charge)\n",
        "print(f\"Average of transcation charge: {average_transcation_charge}\")"
      ],
      "metadata": {
        "colab": {
          "base_uri": "https://localhost:8080/",
          "height": 245
        },
        "id": "FQ1k1vmsZLCB",
        "outputId": "93bd2cbd-af86-4892-9bbe-5dea2c016b81"
      },
      "execution_count": null,
      "outputs": [
        {
          "output_type": "error",
          "ename": "AttributeError",
          "evalue": "type object 'datetime.datetime' has no attribute 'datetime'",
          "traceback": [
            "\u001b[0;31m---------------------------------------------------------------------------\u001b[0m",
            "\u001b[0;31mAttributeError\u001b[0m                            Traceback (most recent call last)",
            "\u001b[0;32m<ipython-input-17-e71cfbfc224f>\u001b[0m in \u001b[0;36m<cell line: 2>\u001b[0;34m()\u001b[0m\n\u001b[1;32m      1\u001b[0m \u001b[0;32mfrom\u001b[0m \u001b[0mdatetime\u001b[0m \u001b[0;32mimport\u001b[0m \u001b[0mdatetime\u001b[0m\u001b[0;34m\u001b[0m\u001b[0;34m\u001b[0m\u001b[0m\n\u001b[0;32m----> 2\u001b[0;31m \u001b[0mdata\u001b[0m \u001b[0;34m=\u001b[0m \u001b[0;34m{\u001b[0m\u001b[0;34m'name'\u001b[0m\u001b[0;34m:\u001b[0m \u001b[0;34m'John Doe'\u001b[0m\u001b[0;34m,\u001b[0m \u001b[0;34m'age'\u001b[0m\u001b[0;34m:\u001b[0m \u001b[0;36m30\u001b[0m\u001b[0;34m,\u001b[0m \u001b[0;34m'contact'\u001b[0m\u001b[0;34m:\u001b[0m \u001b[0;34m{\u001b[0m\u001b[0;34m'phone'\u001b[0m\u001b[0;34m:\u001b[0m \u001b[0;34m'555-1234'\u001b[0m\u001b[0;34m,\u001b[0m \u001b[0;34m'email'\u001b[0m\u001b[0;34m:\u001b[0m \u001b[0;34m'john.doe@example.com'\u001b[0m\u001b[0;34m}\u001b[0m\u001b[0;34m,\u001b[0m \u001b[0;34m'orders'\u001b[0m\u001b[0;34m:\u001b[0m \u001b[0;34m[\u001b[0m\u001b[0;34m{\u001b[0m\u001b[0;34m'id'\u001b[0m\u001b[0;34m:\u001b[0m \u001b[0;36m1\u001b[0m\u001b[0;34m,\u001b[0m \u001b[0;34m'purchase_date'\u001b[0m\u001b[0;34m:\u001b[0m \u001b[0mdatetime\u001b[0m\u001b[0;34m.\u001b[0m\u001b[0mdatetime\u001b[0m\u001b[0;34m(\u001b[0m\u001b[0;36m2020\u001b[0m\u001b[0;34m,\u001b[0m \u001b[0;36m4\u001b[0m\u001b[0;34m,\u001b[0m \u001b[0;36m27\u001b[0m\u001b[0;34m,\u001b[0m \u001b[0;36m13\u001b[0m\u001b[0;34m,\u001b[0m \u001b[0;36m30\u001b[0m\u001b[0;34m)\u001b[0m\u001b[0;34m,\u001b[0m \u001b[0;34m'items'\u001b[0m\u001b[0;34m:\u001b[0m \u001b[0;34m[\u001b[0m\u001b[0;34m{\u001b[0m\u001b[0;34m'product'\u001b[0m\u001b[0;34m:\u001b[0m \u001b[0;34m'Widget A'\u001b[0m\u001b[0;34m,\u001b[0m \u001b[0;34m'quantity'\u001b[0m\u001b[0;34m:\u001b[0m \u001b[0;36m2\u001b[0m\u001b[0;34m,\u001b[0m \u001b[0;34m'transcation_charge'\u001b[0m\u001b[0;34m:\u001b[0m \u001b[0;36m9.99\u001b[0m\u001b[0;34m}\u001b[0m\u001b[0;34m,\u001b[0m \u001b[0;34m{\u001b[0m\u001b[0;34m'product'\u001b[0m\u001b[0;34m:\u001b[0m \u001b[0;34m'Widget B'\u001b[0m\u001b[0;34m,\u001b[0m \u001b[0;34m'quantity'\u001b[0m\u001b[0;34m:\u001b[0m \u001b[0;36m1\u001b[0m\u001b[0;34m,\u001b[0m \u001b[0;34m'transcation_charge'\u001b[0m\u001b[0;34m:\u001b[0m \u001b[0;36m12.99\u001b[0m\u001b[0;34m}\u001b[0m\u001b[0;34m]\u001b[0m\u001b[0;34m}\u001b[0m\u001b[0;34m,\u001b[0m \u001b[0;34m{\u001b[0m\u001b[0;34m'id'\u001b[0m\u001b[0;34m:\u001b[0m \u001b[0;36m2\u001b[0m\u001b[0;34m,\u001b[0m \u001b[0;34m'purchase_date'\u001b[0m\u001b[0;34m:\u001b[0m \u001b[0mdatetime\u001b[0m\u001b[0;34m.\u001b[0m\u001b[0mdatetime\u001b[0m\u001b[0;34m(\u001b[0m\u001b[0;36m2022\u001b[0m\u001b[0;34m,\u001b[0m \u001b[0;36m4\u001b[0m\u001b[0;34m,\u001b[0m \u001b[0;36m26\u001b[0m\u001b[0;34m,\u001b[0m \u001b[0;36m13\u001b[0m\u001b[0;34m,...\n\u001b[0m\u001b[1;32m      3\u001b[0m \u001b[0mpurchase_date1\u001b[0m \u001b[0;34m=\u001b[0m \u001b[0mdata\u001b[0m\u001b[0;34m[\u001b[0m\u001b[0;34m'orders'\u001b[0m\u001b[0;34m]\u001b[0m\u001b[0;34m[\u001b[0m\u001b[0;36m0\u001b[0m\u001b[0;34m]\u001b[0m\u001b[0;34m[\u001b[0m\u001b[0;34m'purchase_date'\u001b[0m\u001b[0;34m]\u001b[0m\u001b[0;34m\u001b[0m\u001b[0;34m\u001b[0m\u001b[0m\n\u001b[1;32m      4\u001b[0m \u001b[0mpurchase_date2\u001b[0m \u001b[0;34m=\u001b[0m \u001b[0mdata\u001b[0m\u001b[0;34m[\u001b[0m\u001b[0;34m'orders'\u001b[0m\u001b[0;34m]\u001b[0m\u001b[0;34m[\u001b[0m\u001b[0;36m1\u001b[0m\u001b[0;34m]\u001b[0m\u001b[0;34m[\u001b[0m\u001b[0;34m'purchase_date'\u001b[0m\u001b[0;34m]\u001b[0m\u001b[0;34m\u001b[0m\u001b[0;34m\u001b[0m\u001b[0m\n\u001b[1;32m      5\u001b[0m \u001b[0;34m\u001b[0m\u001b[0m\n",
            "\u001b[0;31mAttributeError\u001b[0m: type object 'datetime.datetime' has no attribute 'datetime'"
          ]
        }
      ]
    },
    {
      "cell_type": "code",
      "source": [
        "anmial = ['cat', 'dog', 'cow', 'elephant']\n",
        "age = [20,30,40,50,60]\n",
        "color = ['brown', 'black', 'white']\n",
        "habitat = ['domestic', 'jungle', 'water']\n",
        "\n",
        "import itertools\n",
        "import csv\n",
        "anmial = ['cat', 'dog', 'cow', 'elephant']\n",
        "age = [20,30,40,50,60]\n",
        "color = ['brown', 'black', 'white']\n",
        "habitat = ['domestic', 'jungle', 'water']\n",
        "\n",
        "combinations = list(itertools.product(anmial,age,color,habitat))\n",
        "\n",
        "with open(\"animal_combinations.csv\",\"w\",newline=\"\") as file:\n",
        "\twriter = csv.writer(file)\n",
        "\twriter.writerow([\"Animal\",\"Age\",\"Color\",\"Habitat\"])\n",
        "\twriter.writerows(combinations)\n",
        "print(f\"Combinations file has {len(combinations)} rows.\")"
      ],
      "metadata": {
        "colab": {
          "base_uri": "https://localhost:8080/"
        },
        "id": "03zpitjuZQG3",
        "outputId": "897a9be1-c569-44e7-f894-d8b7a3899c9d"
      },
      "execution_count": null,
      "outputs": [
        {
          "output_type": "stream",
          "name": "stdout",
          "text": [
            "Combinations file has 180 rows.\n"
          ]
        }
      ]
    },
    {
      "cell_type": "code",
      "source": [
        "import pandas as pd\n",
        "import request\n",
        "\n",
        "url = \"https://api.kite.trade/instruments\"\n",
        "response = request.get(url)\n",
        "if response.status_code == 200:\n",
        "\tdata = pd.read_csv(url)\n",
        "else:\n",
        "\tprint(\"Failed to fetch data. Status code: \"response.status_code)\n",
        "\texit()\n",
        "\n",
        "filtered_data = data[(data['name'] == \"BANKNIFTY\") & (data['expiry'] == \"25-05-2023\")]\n",
        "average_strike =  filtered_data['strike'].mean()\n",
        "print(f\"The average 'strike' when name='BANKNIFTY' and 'expiry' = '25-05-2023' is:{filtered_data = data[(data['name'] == \"BANKNIFTY\") & (data['expiry'] == \"25-05-2023\")]average_strike}\")"
      ],
      "metadata": {
        "colab": {
          "base_uri": "https://localhost:8080/",
          "height": 141
        },
        "id": "3fyjQH2yaDgY",
        "outputId": "4e1ea548-6f17-4eff-c362-2a88fbb6aff4"
      },
      "execution_count": null,
      "outputs": [
        {
          "output_type": "error",
          "ename": "SyntaxError",
          "evalue": "leading zeros in decimal integer literals are not permitted; use an 0o prefix for octal integers (<ipython-input-28-7b3aecb07120>, line 14)",
          "traceback": [
            "\u001b[0;36m  File \u001b[0;32m\"<ipython-input-28-7b3aecb07120>\"\u001b[0;36m, line \u001b[0;32m14\u001b[0m\n\u001b[0;31m    print(f\"The average 'strike' when name='BANKNIFTY' and 'expiry' = '25-05-2023' is:{filtered_data = data[(data['name'] == \"BANKNIFTY\") & (data['expiry'] == \"25-05-2023\")]average_strike}\")\u001b[0m\n\u001b[0m                                                                                                                                                                   ^\u001b[0m\n\u001b[0;31mSyntaxError\u001b[0m\u001b[0;31m:\u001b[0m leading zeros in decimal integer literals are not permitted; use an 0o prefix for octal integers\n"
          ]
        }
      ]
    },
    {
      "cell_type": "code",
      "source": [],
      "metadata": {
        "id": "Hn8sCWceaurQ"
      },
      "execution_count": null,
      "outputs": []
    }
  ]
}